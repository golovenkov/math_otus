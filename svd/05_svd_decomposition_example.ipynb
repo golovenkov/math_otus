{
 "cells": [
  {
   "cell_type": "markdown",
   "metadata": {},
   "source": [
    "### ДЗ №5. Разложить матрицу в SVD."
   ]
  },
  {
   "cell_type": "code",
   "execution_count": 44,
   "metadata": {},
   "outputs": [],
   "source": [
    "import numpy as np\n",
    "from scipy import linalg"
   ]
  },
  {
   "cell_type": "code",
   "execution_count": 45,
   "metadata": {},
   "outputs": [],
   "source": [
    "a = np.array([[3, 7], \n",
    "              [5, 2]])"
   ]
  },
  {
   "cell_type": "code",
   "execution_count": 46,
   "metadata": {},
   "outputs": [
    {
     "data": {
      "text/plain": [
       "(array([[-0.85065081, -0.52573111],\n",
       "        [-0.52573111,  0.85065081]]),\n",
       " array([8.71337969, 3.32821489]),\n",
       " array([[-0.59455781, -0.80405286],\n",
       "        [ 0.80405286, -0.59455781]]))"
      ]
     },
     "execution_count": 46,
     "metadata": {},
     "output_type": "execute_result"
    }
   ],
   "source": [
    "u, s, vh = linalg.svd(a, full_matrices=True)\n",
    "u, s, vh"
   ]
  },
  {
   "cell_type": "code",
   "execution_count": 47,
   "metadata": {},
   "outputs": [
    {
     "data": {
      "text/plain": [
       "((2, 2), (2,), (2, 2))"
      ]
     },
     "execution_count": 47,
     "metadata": {},
     "output_type": "execute_result"
    }
   ],
   "source": [
    "u.shape, s.shape, vh.shape"
   ]
  },
  {
   "cell_type": "code",
   "execution_count": 48,
   "metadata": {},
   "outputs": [
    {
     "data": {
      "text/plain": [
       "array([[3., 7.],\n",
       "       [5., 2.]])"
      ]
     },
     "execution_count": 48,
     "metadata": {},
     "output_type": "execute_result"
    }
   ],
   "source": [
    "a_lossless = np.dot(u[:, :6] * s, vh)\n",
    "a_lossless"
   ]
  },
  {
   "cell_type": "code",
   "execution_count": 49,
   "metadata": {},
   "outputs": [
    {
     "data": {
      "text/plain": [
       "True"
      ]
     },
     "execution_count": 49,
     "metadata": {},
     "output_type": "execute_result"
    }
   ],
   "source": [
    "np.allclose(a, np.dot(u[:, :6] * s, vh))"
   ]
  },
  {
   "cell_type": "markdown",
   "metadata": {},
   "source": [
    "Возьмем только одно сингулярное число из двух: `s[0, 0]`. \n",
    "\n",
    "И восстановим матрицу `a` из двух векторов `u[:, 0]`, `vh[0, :]` и одного элемента `s[0,0]`."
   ]
  },
  {
   "cell_type": "code",
   "execution_count": 50,
   "metadata": {},
   "outputs": [
    {
     "data": {
      "text/plain": [
       "(array([[-7.41204348],\n",
       "        [-4.5808948 ]]), (2, 1))"
      ]
     },
     "execution_count": 50,
     "metadata": {},
     "output_type": "execute_result"
    }
   ],
   "source": [
    "us_restored = np.expand_dims(np.expand_dims(u[:, 0], axis=1)  @ np.expand_dims(s[0], axis=0), axis=1)\n",
    "us_restored, us_restored.shape"
   ]
  },
  {
   "cell_type": "code",
   "execution_count": 51,
   "metadata": {},
   "outputs": [
    {
     "data": {
      "text/plain": [
       "(array([[-0.59455781, -0.80405286]]), (1, 2))"
      ]
     },
     "execution_count": 51,
     "metadata": {},
     "output_type": "execute_result"
    }
   ],
   "source": [
    "vh_restored = np.expand_dims(vh[0, :], axis=0)\n",
    "vh_restored, vh_restored.shape"
   ]
  },
  {
   "cell_type": "code",
   "execution_count": 52,
   "metadata": {},
   "outputs": [
    {
     "data": {
      "text/plain": [
       "(array([[4.40688837, 5.95967478],\n",
       "        [2.7236068 , 3.68328157]]), (2, 2))"
      ]
     },
     "execution_count": 52,
     "metadata": {},
     "output_type": "execute_result"
    }
   ],
   "source": [
    "a_restored = us_restored @ vh_restored\n",
    "a_restored, a_restored.shape"
   ]
  },
  {
   "cell_type": "code",
   "execution_count": 55,
   "metadata": {},
   "outputs": [
    {
     "data": {
      "text/plain": [
       "0.27639320225002106"
      ]
     },
     "execution_count": 55,
     "metadata": {},
     "output_type": "execute_result"
    }
   ],
   "source": [
    "np.allclose(a, a_restored)\n",
    "\n",
    "# Восстановление произошло с потерями, поскольку отбросив элемент a[1, 1], \n",
    "# мы получили долю необъяснённой дисперсии:\n",
    "# http://www.machinelearning.ru/wiki/index.php?title=Метод_главных_компонент#.D0.9E.D1.81.D1.82.D0.B0.D1.82.D0.BE.D1.87.D0.BD.D0.B0.D1.8F_.D0.B4.D0.B8.D1.81.D0.BF.D0.B5.D1.80.D1.81.D0.B8.D1.8F\n",
    "s[1]/(s[0] + s[1])"
   ]
  },
  {
   "cell_type": "code",
   "execution_count": 56,
   "metadata": {},
   "outputs": [
    {
     "data": {
      "text/plain": [
       "(9.327379053088817, 8.713379692963404)"
      ]
     },
     "execution_count": 56,
     "metadata": {},
     "output_type": "execute_result"
    }
   ],
   "source": [
    "# Норма Фробениуса для исходной и восстановленной матриц\n",
    "np.linalg.norm(a_lossless, ord='fro'), np.linalg.norm(a_restored, ord='fro')"
   ]
  }
 ],
 "metadata": {
  "kernelspec": {
   "display_name": "Python 3",
   "language": "python",
   "name": "python3"
  },
  "language_info": {
   "codemirror_mode": {
    "name": "ipython",
    "version": 3
   },
   "file_extension": ".py",
   "mimetype": "text/x-python",
   "name": "python",
   "nbconvert_exporter": "python",
   "pygments_lexer": "ipython3",
   "version": "3.6.8"
  }
 },
 "nbformat": 4,
 "nbformat_minor": 2
}
